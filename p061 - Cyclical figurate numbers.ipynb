{
 "cells": [
  {
   "cell_type": "code",
   "execution_count": 33,
   "metadata": {},
   "outputs": [],
   "source": [
    "import matplotlib.pyplot as plt\n",
    "import numpy as np\n",
    "import itertools as it"
   ]
  },
  {
   "cell_type": "code",
   "execution_count": 5,
   "metadata": {},
   "outputs": [],
   "source": [
    "def get_tri(n):\n",
    "    return n*(n+1)//2\n",
    "\n",
    "def get_sq(n):\n",
    "    return n**2\n",
    "\n",
    "def get_pent(n):\n",
    "    return n*(3*n-1)//2\n",
    "\n",
    "def get_hex(n):\n",
    "    return n*(2*n-1)\n",
    "\n",
    "def get_hep(n):\n",
    "    return n*(5*n-3)//2\n",
    "\n",
    "def get_oct(n):\n",
    "    return n*(3*n-2)\n",
    "\n",
    "def get_figurate(i,n):\n",
    "    if i==3:\n",
    "        return get_tri(n)\n",
    "    elif i==4:\n",
    "        return get_sq(n)\n",
    "    elif i==5:\n",
    "        return get_pent(n)\n",
    "    elif i==6:\n",
    "        return get_hex(n)\n",
    "    elif i==7:\n",
    "        return get_hep(n)\n",
    "    elif i==8:\n",
    "        return get_oct(n)\n",
    "    else:\n",
    "        raise ValueError(\"that figurate number not currently supported\")\n",
    "def check_tri(n):\n",
    "    return np.mod(np.sqrt(8*n+1),2) == 1 \n",
    "\n",
    "def check_hex(n):\n",
    "    return np.mod(np.sqrt(8*n+1),4) == 3\n",
    "\n",
    "def check_pent(n):\n",
    "    return np.mod(np.sqrt(24*n+1),6) == 5"
   ]
  },
  {
   "cell_type": "code",
   "execution_count": 28,
   "metadata": {},
   "outputs": [],
   "source": [
    "# Generate all 4-digit figurative numbers and store into figs list\n",
    "Nmin = 10**3\n",
    "Nmax = 10**4\n",
    "figs = []\n",
    "not_found = [3,4,5,6,7,8]\n",
    "for n in not_found:\n",
    "    figs.append([])\n",
    "n = 1\n",
    "while(len(not_found)>0):\n",
    "    for i in not_found:\n",
    "        fn = get_figurate(i,n)\n",
    "        if (fn >= Nmin) and (fn <= Nmax):\n",
    "            figs[i-3].append(str(fn))\n",
    "        if fn > Nmax:\n",
    "            not_found.remove(i)\n",
    "    n +=1"
   ]
  },
  {
   "cell_type": "code",
   "execution_count": 200,
   "metadata": {},
   "outputs": [],
   "source": [
    "class LinksArray():\n",
    "    def __init__(self,shape):\n",
    "        self.arr = []\n",
    "        self.shape = shape\n",
    "        for i in range(shape[0]):\n",
    "            ls = []\n",
    "            for l in range(shape[1]):\n",
    "                ls.append([])\n",
    "            self.arr.append(ls)\n",
    "    \n",
    "    def __getitem__(self,key):\n",
    "        if type(key) in (tuple, list):\n",
    "            return self.arr[key[0]][key[1]]\n",
    "        elif type(key) in (float, int):\n",
    "            return self.arr[key//self.shape[1]][key%self.shape[1]]\n",
    "\n",
    "    def __setitem__(self,key,val):\n",
    "        self.arr[key[0]][key[1]] = val\n",
    "\n",
    "links = LinksArray((len(figs),100))\n"
   ]
  },
  {
   "cell_type": "code",
   "execution_count": 201,
   "metadata": {},
   "outputs": [],
   "source": [
    "# find pairs of numbers that are in cyclic sequence\n",
    "for i in range(len(figs)):\n",
    "    for j in range(len(figs)):\n",
    "        if not i==j:\n",
    "            for i2,f in enumerate(figs[i]):\n",
    "                for j2,g in enumerate(figs[j]):\n",
    "                    if f[2:]==g[:2]:\n",
    "                        links[(i,i2)].append((j,j2))"
   ]
  },
  {
   "cell_type": "code",
   "execution_count": 222,
   "metadata": {},
   "outputs": [],
   "source": [
    "def try_next_link(chain, links, figs_in_chain):\n",
    "    found = False\n",
    "    for nl in links[chain[-1]]:\n",
    "        if len(chain)<6:\n",
    "            if nl[0] not in figs_in_chain:\n",
    "                found = try_next_link(chain+[nl],links,figs_in_chain+[nl[0]])\n",
    "        elif len(chain) == 6:\n",
    "            if nl == chain[0]:\n",
    "                found = True\n",
    "                return chain\n",
    "    return found\n",
    "    \n",
    "        "
   ]
  },
  {
   "cell_type": "code",
   "execution_count": 228,
   "metadata": {},
   "outputs": [
    {
     "name": "stdout",
     "output_type": "stream",
     "text": [
      "[(1, 43), (4, 11), (5, 2), (3, 41), (2, 18), (0, 83)]\n"
     ]
    }
   ],
   "source": [
    "found = False\n",
    "startloc = (0,0)\n",
    "i = 0\n",
    "while(not found):\n",
    "    if i< links.shape[0]*links.shape[1]:\n",
    "        startloc = (i//links.shape[1], i%links.shape[1])\n",
    "        found = try_next_link([startloc],links,[startloc[0]])\n",
    "        i +=1\n",
    "    else:\n",
    "        found = True\n",
    "        print('not found')\n",
    "print(found)"
   ]
  },
  {
   "cell_type": "code",
   "execution_count": 229,
   "metadata": {},
   "outputs": [
    {
     "name": "stdout",
     "output_type": "stream",
     "text": [
      "5625\n",
      "2512\n",
      "1281\n",
      "8128\n",
      "2882\n",
      "8256\n",
      "28684\n"
     ]
    }
   ],
   "source": [
    "s = 0\n",
    "for f in found:\n",
    "    num = int(figs[f[0]][f[1]])\n",
    "    print(num)\n",
    "    s += num\n",
    "print(s)"
   ]
  },
  {
   "cell_type": "code",
   "execution_count": null,
   "metadata": {},
   "outputs": [],
   "source": []
  }
 ],
 "metadata": {
  "kernelspec": {
   "display_name": "Python 3",
   "language": "python",
   "name": "python3"
  },
  "language_info": {
   "codemirror_mode": {
    "name": "ipython",
    "version": 3
   },
   "file_extension": ".py",
   "mimetype": "text/x-python",
   "name": "python",
   "nbconvert_exporter": "python",
   "pygments_lexer": "ipython3",
   "version": "3.6.4"
  }
 },
 "nbformat": 4,
 "nbformat_minor": 2
}
