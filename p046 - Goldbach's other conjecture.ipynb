{
 "cells": [
  {
   "cell_type": "code",
   "execution_count": 1,
   "metadata": {},
   "outputs": [],
   "source": [
    "import numpy as np"
   ]
  },
  {
   "cell_type": "code",
   "execution_count": 13,
   "metadata": {},
   "outputs": [],
   "source": [
    "from bitarray import bitarray\n",
    "def sieve_of_eratosthenes(max_num, min_num = None):\n",
    "    max_array = (max_num-1)//2\n",
    "    B = bitarray(max_array)\n",
    "    B.setall(True)\n",
    "    p = 3\n",
    "    i = 0\n",
    "    primes = [2]\n",
    "    finished = False\n",
    "    while(not finished):\n",
    "        if max_num < p**2:\n",
    "            while(i<max_array):\n",
    "                if B[i]:\n",
    "                    primes.append(p)\n",
    "                i+=1\n",
    "                p+=2\n",
    "            finished = True\n",
    "            break\n",
    "        if not B[i]:\n",
    "            i += 1\n",
    "            p += 2\n",
    "            continue\n",
    "        else:\n",
    "            primes.append(p)\n",
    "            j = (p**2 - 3)//2\n",
    "        while(j < max_array):\n",
    "            B[j] = False\n",
    "            j += p\n",
    "        i = i+1\n",
    "        p = p+2\n",
    "    if min_num:\n",
    "        return [x for x in primes if x >= min_num]\n",
    "    else:\n",
    "        return primes        "
   ]
  },
  {
   "cell_type": "code",
   "execution_count": 30,
   "metadata": {},
   "outputs": [],
   "source": [
    "N = 10000\n",
    "sq = np.array([x**2 for x in range(1,int(np.sqrt(N))+2)])\n",
    "pr = sieve_of_eratosthenes(max_num=N, min_num = 2)\n",
    "odds = set(range(1,N,2))"
   ]
  },
  {
   "cell_type": "code",
   "execution_count": 31,
   "metadata": {},
   "outputs": [],
   "source": [
    "for p in pr:\n",
    "    if p in odds:\n",
    "        odds.remove(p)\n",
    "    for s in sq:\n",
    "        r = p+2*s\n",
    "        if r in odds:\n",
    "            odds.remove(r)"
   ]
  },
  {
   "cell_type": "code",
   "execution_count": 32,
   "metadata": {},
   "outputs": [
    {
     "data": {
      "text/plain": [
       "{1, 5777, 5993}"
      ]
     },
     "execution_count": 32,
     "metadata": {},
     "output_type": "execute_result"
    }
   ],
   "source": [
    "odds"
   ]
  },
  {
   "cell_type": "code",
   "execution_count": null,
   "metadata": {},
   "outputs": [],
   "source": []
  }
 ],
 "metadata": {
  "kernelspec": {
   "display_name": "Python 3",
   "language": "python",
   "name": "python3"
  },
  "language_info": {
   "codemirror_mode": {
    "name": "ipython",
    "version": 3
   },
   "file_extension": ".py",
   "mimetype": "text/x-python",
   "name": "python",
   "nbconvert_exporter": "python",
   "pygments_lexer": "ipython3",
   "version": "3.6.4"
  }
 },
 "nbformat": 4,
 "nbformat_minor": 2
}
