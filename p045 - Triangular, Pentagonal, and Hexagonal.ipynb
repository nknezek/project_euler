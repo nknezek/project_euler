{
 "cells": [
  {
   "cell_type": "code",
   "execution_count": 4,
   "metadata": {},
   "outputs": [],
   "source": [
    "import matplotlib.pyplot as plt\n",
    "import numpy as np"
   ]
  },
  {
   "cell_type": "code",
   "execution_count": 18,
   "metadata": {},
   "outputs": [],
   "source": [
    "def get_pent(n):\n",
    "    return n*(3*n-1)//2\n",
    "\n",
    "def get_hex(n):\n",
    "    return n*(2*n-1)\n",
    "\n",
    "def get_tri(n):\n",
    "    return n*(n+1)//2\n",
    "\n",
    "def check_tri(n):\n",
    "    return np.mod(np.sqrt(8*n+1),2) == 1 \n",
    "\n",
    "def check_hex(n):\n",
    "    return np.mod(np.sqrt(8*n+1),4) == 3\n",
    "\n",
    "def check_pent(n):\n",
    "    return np.mod(np.sqrt(24*n+1),6) == 5"
   ]
  },
  {
   "cell_type": "code",
   "execution_count": 21,
   "metadata": {},
   "outputs": [
    {
     "name": "stdout",
     "output_type": "stream",
     "text": [
      "27693 1533776805\n",
      "True True True\n"
     ]
    }
   ],
   "source": [
    "found = False\n",
    "i = 144\n",
    "while(not found):\n",
    "    n = get_hex(i)\n",
    "    if check_pent(n):\n",
    "        found = True\n",
    "        print(i,n)\n",
    "        break\n",
    "    i += 1"
   ]
  },
  {
   "cell_type": "code",
   "execution_count": null,
   "metadata": {},
   "outputs": [],
   "source": []
  }
 ],
 "metadata": {
  "kernelspec": {
   "display_name": "Python 3",
   "language": "python",
   "name": "python3"
  },
  "language_info": {
   "codemirror_mode": {
    "name": "ipython",
    "version": 3
   },
   "file_extension": ".py",
   "mimetype": "text/x-python",
   "name": "python",
   "nbconvert_exporter": "python",
   "pygments_lexer": "ipython3",
   "version": "3.6.4"
  }
 },
 "nbformat": 4,
 "nbformat_minor": 2
}
