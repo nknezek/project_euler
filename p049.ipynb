{
 "cells": [
  {
   "cell_type": "code",
   "execution_count": 1,
   "metadata": {},
   "outputs": [],
   "source": [
    "import numpy as np"
   ]
  },
  {
   "cell_type": "code",
   "execution_count": 2,
   "metadata": {},
   "outputs": [],
   "source": [
    "from bitarray import bitarray\n",
    "def sieve_of_eratosthenes(max_num, min_num = None):\n",
    "    max_array = (max_num-1)//2\n",
    "    B = bitarray(max_array)\n",
    "    B.setall(True)\n",
    "    p = 3\n",
    "    i = 0\n",
    "    primes = [2]\n",
    "    finished = False\n",
    "    while(not finished):\n",
    "        if max_num < p**2:\n",
    "            while(i<max_array):\n",
    "                if B[i]:\n",
    "                    primes.append(p)\n",
    "                i+=1\n",
    "                p+=2\n",
    "            finished = True\n",
    "            break\n",
    "        if not B[i]:\n",
    "            i += 1\n",
    "            p += 2\n",
    "            continue\n",
    "        else:\n",
    "            primes.append(p)\n",
    "            j = (p**2 - 3)//2\n",
    "        while(j < max_array):\n",
    "            B[j] = False\n",
    "            j += p\n",
    "        i = i+1\n",
    "        p = p+2\n",
    "    if min_num:\n",
    "        return [x for x in primes if x >= min_num]\n",
    "    else:\n",
    "        return primes"
   ]
  },
  {
   "cell_type": "code",
   "execution_count": 8,
   "metadata": {},
   "outputs": [
    {
     "name": "stdout",
     "output_type": "stream",
     "text": [
      "1487\n",
      "2969\n"
     ]
    }
   ],
   "source": [
    "primes = sieve_of_eratosthenes(9999,1000)\n",
    "for i in range(10**3,10**4//2):\n",
    "    for p in primes[:len(primes)//3]:\n",
    "        if p+i in primes:\n",
    "            if p+2*i in primes:\n",
    "                ssp = set(str(p))\n",
    "                if ssp == set(str(p+i)):\n",
    "                    if ssp == set(str(p+2*i)):\n",
    "                        print(p,i)"
   ]
  },
  {
   "cell_type": "code",
   "execution_count": 13,
   "metadata": {},
   "outputs": [
    {
     "name": "stdout",
     "output_type": "stream",
     "text": [
      "296962999629\n"
     ]
    }
   ],
   "source": [
    "p = 2969\n",
    "i = 3330\n",
    "print(str(p)+str(p+i)+str(p+2*i))"
   ]
  }
 ],
 "metadata": {
  "kernelspec": {
   "display_name": "Python 3",
   "language": "python",
   "name": "python3"
  },
  "language_info": {
   "codemirror_mode": {
    "name": "ipython",
    "version": 3
   },
   "file_extension": ".py",
   "mimetype": "text/x-python",
   "name": "python",
   "nbconvert_exporter": "python",
   "pygments_lexer": "ipython3",
   "version": "3.6.4"
  }
 },
 "nbformat": 4,
 "nbformat_minor": 2
}
