{
 "cells": [
  {
   "cell_type": "code",
   "execution_count": 1,
   "metadata": {},
   "outputs": [],
   "source": [
    "import numpy as np"
   ]
  },
  {
   "cell_type": "code",
   "execution_count": 2,
   "metadata": {},
   "outputs": [],
   "source": [
    "from bitarray import bitarray\n",
    "def sieve_of_eratosthenes(max_num, min_num = None):\n",
    "    max_array = (max_num-1)//2\n",
    "    B = bitarray(max_array)\n",
    "    B.setall(True)\n",
    "    p = 3\n",
    "    i = 0\n",
    "    primes = [2]\n",
    "    finished = False\n",
    "    while(not finished):\n",
    "        if max_num < p**2:\n",
    "            while(i<max_array):\n",
    "                if B[i]:\n",
    "                    primes.append(p)\n",
    "                i+=1\n",
    "                p+=2\n",
    "            finished = True\n",
    "            break\n",
    "        if not B[i]:\n",
    "            i += 1\n",
    "            p += 2\n",
    "            continue\n",
    "        else:\n",
    "            primes.append(p)\n",
    "            j = (p**2 - 3)//2\n",
    "        while(j < max_array):\n",
    "            B[j] = False\n",
    "            j += p\n",
    "        i = i+1\n",
    "        p = p+2\n",
    "    if min_num:\n",
    "        return [x for x in primes if x >= min_num]\n",
    "    else:\n",
    "        return primes"
   ]
  },
  {
   "cell_type": "code",
   "execution_count": 5,
   "metadata": {},
   "outputs": [],
   "source": [
    "def factor(num_to_factor, primes=None):\n",
    "    factored = False\n",
    "    if primes is None:\n",
    "        primes = sieve_of_eratosthenes(num_to_factor)\n",
    "    prime_factors = []\n",
    "    i_prime = 0\n",
    "    while(not factored):\n",
    "        if num_to_factor == 1:\n",
    "            factored = True\n",
    "        elif num_to_factor%primes[i_prime] == 0:\n",
    "            prime_factors.append(primes[i_prime])\n",
    "            num_to_factor = num_to_factor/primes[i_prime]\n",
    "        else:\n",
    "            i_prime += 1 \n",
    "    return prime_factors"
   ]
  },
  {
   "cell_type": "code",
   "execution_count": 18,
   "metadata": {},
   "outputs": [
    {
     "name": "stdout",
     "output_type": "stream",
     "text": [
      "134043\n"
     ]
    }
   ],
   "source": [
    "found = False\n",
    "i = 100000\n",
    "N = 4\n",
    "f = 0\n",
    "Nprimes = 10000000\n",
    "primes = sieve_of_eratosthenes(Nprimes)\n",
    "while(not found):\n",
    "    if len(set(factor(i, primes=primes))) == N:\n",
    "        f += 1\n",
    "        if f == N:\n",
    "            print(i-N+1)\n",
    "            break\n",
    "    else:\n",
    "        f = 0\n",
    "    i += 1\n",
    "    "
   ]
  }
 ],
 "metadata": {
  "kernelspec": {
   "display_name": "Python 3",
   "language": "python",
   "name": "python3"
  },
  "language_info": {
   "codemirror_mode": {
    "name": "ipython",
    "version": 3
   },
   "file_extension": ".py",
   "mimetype": "text/x-python",
   "name": "python",
   "nbconvert_exporter": "python",
   "pygments_lexer": "ipython3",
   "version": "3.6.4"
  }
 },
 "nbformat": 4,
 "nbformat_minor": 2
}
