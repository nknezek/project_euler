{
 "cells": [
  {
   "cell_type": "code",
   "execution_count": 16,
   "metadata": {},
   "outputs": [],
   "source": [
    "import numpy as np\n",
    "import math\n",
    "import itertools as it"
   ]
  },
  {
   "cell_type": "code",
   "execution_count": 88,
   "metadata": {},
   "outputs": [],
   "source": [
    "# iterate through all possible pandigital 0-9 numbers and check each one for the condition specified. \n",
    "# For divisors 2 and 5, simply check that the corresponding digit is even / 0 or 5 to save time.\n",
    "\n",
    "n=10\n",
    "pdgtls = it.permutations('1234567890',n)\n",
    "# divs = [2,3,5,7,11,13,17]\n",
    "# inds = [0,1,2,3,4,5,6]\n",
    "divs = [3,7,11,13,17]\n",
    "inds = [1,3,4,5,6]\n",
    "even_strs = [str(x) for x in range(0,9,2)]\n",
    "five_strs = [str(x) for x in range(0,6,5)]\n",
    "valid_nums = []\n",
    "for j,p in enumerate(pdgtls):\n",
    "    is_even = False\n",
    "    for s in even_strs:\n",
    "        if p[3]==s:\n",
    "            is_even = True\n",
    "            break\n",
    "    if not is_even:\n",
    "        continue\n",
    "    is_five = False\n",
    "    for s in five_strs:\n",
    "        if p[5] == s:\n",
    "            is_five = True\n",
    "            break\n",
    "    if not is_five:\n",
    "        continue\n",
    "    works = True\n",
    "    for i,d in zip(inds,divs):\n",
    "        if not (int(''.join(p[i+1:i+4]))%d == 0):\n",
    "            works = False\n",
    "            break\n",
    "    if works:\n",
    "        valid_nums.append(p)\n",
    "    if (j%1e6) == 0:\n",
    "        print(j, p)"
   ]
  },
  {
   "cell_type": "code",
   "execution_count": 89,
   "metadata": {},
   "outputs": [
    {
     "name": "stdout",
     "output_type": "stream",
     "text": [
      "('1', '4', '3', '0', '9', '5', '2', '8', '6', '7') works\n",
      "('1', '4', '6', '0', '3', '5', '7', '2', '8', '9') works\n",
      "('1', '4', '0', '6', '3', '5', '7', '2', '8', '9') works\n",
      "('4', '1', '3', '0', '9', '5', '2', '8', '6', '7') works\n",
      "('4', '1', '6', '0', '3', '5', '7', '2', '8', '9') works\n",
      "('4', '1', '0', '6', '3', '5', '7', '2', '8', '9') works\n"
     ]
    }
   ],
   "source": [
    "## Check the answers obtained\n",
    "\n",
    "divs = [2,3,5,7,11,13,17]\n",
    "inds = [0,1,2,3,4,5,6]\n",
    "for j,p in enumerate(valid_nums):\n",
    "    works = True\n",
    "    for i,d in zip(inds,divs):\n",
    "        if not (int(''.join(p[i+1:i+4]))%d == 0):\n",
    "            works = False\n",
    "    if works:\n",
    "        print('{} works'.format(p))\n",
    "    else:\n",
    "        print('{} does not work'.format(p))\n"
   ]
  },
  {
   "cell_type": "code",
   "execution_count": 92,
   "metadata": {},
   "outputs": [
    {
     "name": "stdout",
     "output_type": "stream",
     "text": [
      "16695334890\n"
     ]
    }
   ],
   "source": [
    "# compute the sum of all pandigital numbers found to check on Project Euler\n",
    "s = 0\n",
    "for v in valid_nums:\n",
    "    s+=int(''.join(v))\n",
    "print(s)"
   ]
  },
  {
   "cell_type": "code",
   "execution_count": null,
   "metadata": {},
   "outputs": [],
   "source": []
  }
 ],
 "metadata": {
  "kernelspec": {
   "display_name": "Python 3",
   "language": "python",
   "name": "python3"
  },
  "language_info": {
   "codemirror_mode": {
    "name": "ipython",
    "version": 3
   },
   "file_extension": ".py",
   "mimetype": "text/x-python",
   "name": "python",
   "nbconvert_exporter": "python",
   "pygments_lexer": "ipython3",
   "version": "3.6.4"
  }
 },
 "nbformat": 4,
 "nbformat_minor": 2
}
