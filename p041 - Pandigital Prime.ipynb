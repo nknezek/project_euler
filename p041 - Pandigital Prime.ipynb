{
 "cells": [
  {
   "cell_type": "code",
   "execution_count": 5,
   "metadata": {},
   "outputs": [],
   "source": [
    "import numpy as np\n",
    "import math\n",
    "import itertools as it"
   ]
  },
  {
   "cell_type": "code",
   "execution_count": 3,
   "metadata": {},
   "outputs": [],
   "source": [
    "def is_prime(n):\n",
    "    if n == 2:\n",
    "        return True\n",
    "    if n % 2 == 0 or n <= 1:\n",
    "        return False\n",
    "\n",
    "    sqr = int(math.sqrt(n)) + 1\n",
    "\n",
    "    for divisor in range(3, sqr, 2):\n",
    "        if n % divisor == 0:\n",
    "            return False\n",
    "    return True"
   ]
  },
  {
   "cell_type": "code",
   "execution_count": 43,
   "metadata": {},
   "outputs": [
    {
     "data": {
      "text/plain": [
       "'987654321'"
      ]
     },
     "execution_count": 43,
     "metadata": {},
     "output_type": "execute_result"
    }
   ],
   "source": [
    "n = 9\n"
   ]
  },
  {
   "cell_type": "code",
   "execution_count": 52,
   "metadata": {},
   "outputs": [
    {
     "name": "stdout",
     "output_type": "stream",
     "text": [
      "987654321\n",
      "752184396\n",
      "514368792\n",
      "265398741\n",
      "finished iter at 123456789\n",
      "16473285\n",
      "finished iter at 12345678\n",
      "found a pandigital prime! = 7652413\n"
     ]
    }
   ],
   "source": [
    "n=9\n",
    "found_prime = False\n",
    "i=0\n",
    "Nmax = 1e6\n",
    "while((not found_prime) and (i<Nmax)):\n",
    "    perms = it.permutations(''.join([str(x) for x in range(n,0,-1)]),n)\n",
    "    while(not found_prime):\n",
    "        try:\n",
    "            num = int(''.join(perms.__next__()))\n",
    "        except:\n",
    "            print('finished iter at {}'.format(num))\n",
    "            break\n",
    "        if i%(Nmax//10)==0:\n",
    "            print(num)\n",
    "        if is_prime(num):\n",
    "            print('found a pandigital prime! = {}'.format(num))\n",
    "            found_prime = True\n",
    "            break\n",
    "        i += 1\n",
    "    n -=1\n"
   ]
  },
  {
   "cell_type": "code",
   "execution_count": null,
   "metadata": {},
   "outputs": [],
   "source": []
  }
 ],
 "metadata": {
  "kernelspec": {
   "display_name": "Python 3",
   "language": "python",
   "name": "python3"
  },
  "language_info": {
   "codemirror_mode": {
    "name": "ipython",
    "version": 3
   },
   "file_extension": ".py",
   "mimetype": "text/x-python",
   "name": "python",
   "nbconvert_exporter": "python",
   "pygments_lexer": "ipython3",
   "version": "3.6.4"
  }
 },
 "nbformat": 4,
 "nbformat_minor": 2
}
